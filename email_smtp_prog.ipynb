{
  "nbformat": 4,
  "nbformat_minor": 0,
  "metadata": {
    "colab": {
      "name": "email_smtp_prog.ipynb",
      "provenance": [],
      "collapsed_sections": [],
      "authorship_tag": "ABX9TyNTY83JZQOY21a6YKZjHlBv",
      "include_colab_link": true
    },
    "kernelspec": {
      "name": "python3",
      "display_name": "Python 3"
    },
    "language_info": {
      "name": "python"
    }
  },
  "cells": [
    {
      "cell_type": "markdown",
      "metadata": {
        "id": "view-in-github",
        "colab_type": "text"
      },
      "source": [
        "<a href=\"https://colab.research.google.com/github/Yoshitha-01/6504_tasks/blob/main/email_smtp_prog.ipynb\" target=\"_parent\"><img src=\"https://colab.research.google.com/assets/colab-badge.svg\" alt=\"Open In Colab\"/></a>"
      ]
    },
    {
      "cell_type": "code",
      "source": [
        "import smtplib\n",
        "gmail_user=\"my_email@gmail.com\"\n",
        "gmail_pwd=\"my_email_password\"\n"
      ],
      "metadata": {
        "id": "pIAqSynkJHxa"
      },
      "execution_count": 8,
      "outputs": []
    },
    {
      "cell_type": "code",
      "source": [
        "sent_from=gmail_user\n",
        "to=input(\"Enter receiver mail address : \")\n",
        "Subject=input(\"Enter subject of your mail: \")\n",
        "body=input(\"Enter body of your mail: \")\n",
        "email_text=\"From:%s\\n To:%s\\n Subject:%s\\n body:%s\\n\"%(sent_from,\",\".join(to),Subject,body)\n",
        "\n"
      ],
      "metadata": {
        "id": "R-MXULdKJex9"
      },
      "execution_count": null,
      "outputs": []
    },
    {
      "cell_type": "code",
      "source": [
        "try:\n",
        "  smtp_server=smtplib.SMTP_SSL('smtp.gmail.com')\n",
        "  smtp_server.ehlo()\n",
        "  smtp_server.login(gmail_user,gmail_pwd)\n",
        "  smtp_server.sendmail(sent_from,to,email_text)\n",
        "  smtp_server.close()\n",
        "  print(\"Email sent successfully!\")\n",
        "except Exception as e:\n",
        "  print(\"Something went wrong..\",e)"
      ],
      "metadata": {
        "id": "g1aiXakYK0jr"
      },
      "execution_count": null,
      "outputs": []
    }
  ]
}